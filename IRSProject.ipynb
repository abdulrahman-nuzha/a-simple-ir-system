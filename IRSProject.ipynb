{
  "cells": [
    {
      "cell_type": "markdown",
      "metadata": {
        "id": "view-in-github",
        "colab_type": "text"
      },
      "source": [
        "<a href=\"https://colab.research.google.com/github/abdulrahman-nuzha/a-simple-ir-system/blob/main/IRSProject.ipynb\" target=\"_parent\"><img src=\"https://colab.research.google.com/assets/colab-badge.svg\" alt=\"Open In Colab\"/></a>"
      ]
    },
    {
      "cell_type": "markdown",
      "source": [
        "#**IR system**"
      ],
      "metadata": {
        "id": "O2i-lxfDqL8E"
      },
      "id": "O2i-lxfDqL8E"
    },
    {
      "cell_type": "markdown",
      "source": [
        "#Import Lib"
      ],
      "metadata": {
        "id": "86gex778oNMy"
      },
      "id": "86gex778oNMy"
    },
    {
      "cell_type": "code",
      "execution_count": 1,
      "id": "99612b6f",
      "metadata": {
        "id": "99612b6f"
      },
      "outputs": [],
      "source": [
        "#Lib\n",
        "import numpy as np\n",
        "from nltk.corpus import stopwords\n",
        "from nltk.tokenize import word_tokenize\n",
        "from nltk.stem import WordNetLemmatizer\n",
        "from nltk.tokenize import sent_tokenize\n",
        "import requests\n",
        "from bs4 import BeautifulSoup\n",
        "from collections import defaultdict\n",
        "import re\n",
        "from sklearn.feature_extraction.text import TfidfVectorizer\n",
        "from tqdm import tqdm"
      ]
    },
    {
      "cell_type": "code",
      "source": [
        "import nltk\n",
        "nltk.download('stopwords')\n",
        "nltk.download('punkt')\n",
        "nltk.download('wordnet')"
      ],
      "metadata": {
        "colab": {
          "base_uri": "https://localhost:8080/"
        },
        "id": "piY7cz-wXB3p",
        "outputId": "e1d76e25-aa05-43bc-ec40-3cf05df0759e"
      },
      "id": "piY7cz-wXB3p",
      "execution_count": 2,
      "outputs": [
        {
          "output_type": "stream",
          "name": "stderr",
          "text": [
            "[nltk_data] Downloading package stopwords to /root/nltk_data...\n",
            "[nltk_data]   Unzipping corpora/stopwords.zip.\n",
            "[nltk_data] Downloading package punkt to /root/nltk_data...\n",
            "[nltk_data]   Unzipping tokenizers/punkt.zip.\n",
            "[nltk_data] Downloading package wordnet to /root/nltk_data...\n"
          ]
        },
        {
          "output_type": "execute_result",
          "data": {
            "text/plain": [
              "True"
            ]
          },
          "metadata": {},
          "execution_count": 2
        }
      ]
    },
    {
      "cell_type": "markdown",
      "id": "cb969f60",
      "metadata": {
        "id": "cb969f60"
      },
      "source": [
        "# Crawler"
      ]
    },
    {
      "cell_type": "code",
      "execution_count": 3,
      "id": "c42fbff6",
      "metadata": {
        "id": "c42fbff6"
      },
      "outputs": [],
      "source": [
        "def crawl(start_url):\n",
        "    response = requests.get(start_url)\n",
        "    soup = BeautifulSoup(response.content, 'html.parser')\n",
        "    links = soup.find_all('a', href=True)\n",
        "\n",
        "    urls = [link['href'] for link in links]\n",
        "    urls = [url for url in urls if not url.startswith('http')]\n",
        "    urls = [start_url + url if not url.startswith('/') else start_url[:-1] + url for url in urls]\n",
        "\n",
        "    return urls"
      ]
    },
    {
      "cell_type": "markdown",
      "id": "48fa1963",
      "metadata": {
        "id": "48fa1963"
      },
      "source": [
        "# Get Page Contents"
      ]
    },
    {
      "cell_type": "code",
      "execution_count": 4,
      "id": "d530ff19",
      "metadata": {
        "id": "d530ff19"
      },
      "outputs": [],
      "source": [
        "def content_web_page(url):\n",
        "\n",
        "    response = requests.get(url)\n",
        "    soup = BeautifulSoup(response.content, 'html.parser')\n",
        "    paragraphs = soup.find_all('p')\n",
        "    text_content = ' '.join([p.get_text() for p in paragraphs])\n",
        "    return text_content"
      ]
    },
    {
      "cell_type": "markdown",
      "id": "035a0099",
      "metadata": {
        "id": "035a0099"
      },
      "source": [
        "# Get Page links"
      ]
    },
    {
      "cell_type": "code",
      "execution_count": 5,
      "id": "48a56b1c",
      "metadata": {
        "id": "48a56b1c"
      },
      "outputs": [],
      "source": [
        "def get_outgoing_links(url):\n",
        "    response = requests.get(url)\n",
        "    soup = BeautifulSoup(response.text, 'html.parser')\n",
        "    links = soup.find_all('a')\n",
        "\n",
        "    outgoing_links = []\n",
        "    for link in links:\n",
        "        href = link.get('href')\n",
        "        if href and href.startswith('http'):\n",
        "            outgoing_links.append(href)\n",
        "\n",
        "    return outgoing_links"
      ]
    },
    {
      "cell_type": "markdown",
      "id": "126eec82",
      "metadata": {
        "id": "126eec82"
      },
      "source": [
        "# Page Rank"
      ]
    },
    {
      "cell_type": "code",
      "execution_count": 6,
      "id": "f143aa1b",
      "metadata": {
        "id": "f143aa1b"
      },
      "outputs": [],
      "source": [
        "def calculate_page_rank(url_list, num_iterations=10, damping_factor=0.85):\n",
        "    # Initialize PageRank scores\n",
        "    page_rank_scores = {url: 1.0 for url in url_list}\n",
        "\n",
        "    # Perform power iteration\n",
        "    for _ in range(num_iterations):\n",
        "        new_scores = {}\n",
        "        total_score = 0.0\n",
        "\n",
        "        for url in url_list:\n",
        "            new_score = (1 - damping_factor)\n",
        "            for linking_url in url_list:\n",
        "                if url in get_outgoing_links(linking_url):\n",
        "                    num_links = len(get_outgoing_links(linking_url))\n",
        "                    new_score += damping_factor * (page_rank_scores[linking_url] / num_links)\n",
        "\n",
        "            new_scores[url] = new_score\n",
        "            total_score += new_score\n",
        "\n",
        "        # Normalize scores\n",
        "        for url in url_list:\n",
        "            new_scores[url] /= total_score\n",
        "\n",
        "        page_rank_scores = new_scores\n",
        "\n",
        "    return page_rank_scores"
      ]
    },
    {
      "cell_type": "markdown",
      "id": "2709185a",
      "metadata": {
        "id": "2709185a"
      },
      "source": [
        "# Preprocessing"
      ]
    },
    {
      "cell_type": "code",
      "execution_count": 7,
      "id": "4b48164b",
      "metadata": {
        "id": "4b48164b"
      },
      "outputs": [],
      "source": [
        "def clean_text(text):\n",
        "      text = re.sub(r\"(?:\\@|http?\\://|https?\\://|www)\\S+\", \"\", text)\n",
        "      text = text.lower()\n",
        "      text = re.sub(r',', '', text)\n",
        "      text = re.sub(r'\\'', '',  text)\n",
        "      text = re.sub(r'\\\"', '', text)\n",
        "      text = re.sub(r'\\(', '', text)\n",
        "      text = re.sub(r'\\)', '', text)\n",
        "      text = re.sub(r'\\n', '', text)\n",
        "      text = re.sub(r'“', '', text)\n",
        "      text = re.sub(r'”', '', text)\n",
        "      text = re.sub(r'’', '', text)\n",
        "      text = re.sub(r'\\.', '', text)\n",
        "      text = re.sub(r';', '', text)\n",
        "      text = re.sub(r':', '', text)\n",
        "      text = re.sub(r'\\-', '', text)\n",
        "      text = re.sub(r'[^\\w\\s]','',text,flags=re.MULTILINE)\n",
        "      emoji_pattern = re.compile(\"[\"\n",
        "        u\"\\U0001F600-\\U0001F64F\"  # emoticons\n",
        "        u\"\\U0001F300-\\U0001F5FF\"  # symbols & pictographs\n",
        "        u\"\\U0001F680-\\U0001F6FF\"  # transport & map symbols\n",
        "        u\"\\U0001F1E0-\\U0001F1FF\"  # flags (iOS)\n",
        "        u\"\\U00002500-\\U00002BEF\"  # chinese char\n",
        "        u\"\\U00002702-\\U000027B0\"\n",
        "        u\"\\U00002702-\\U000027B0\"\n",
        "        u\"\\U000024C2-\\U0001F251\"\n",
        "        u\"\\U0001f926-\\U0001f937\"\n",
        "        u\"\\U00010000-\\U0010ffff\"\n",
        "        u\"\\u2640-\\u2642\"\n",
        "        u\"\\u2600-\\u2B55\"\n",
        "        u\"\\u200d\"\n",
        "        u\"\\u23cf\"\n",
        "        u\"\\u23e9\"\n",
        "        u\"\\u231a\"\n",
        "        u\"\\ufe0f\"  # dingbats\n",
        "        u\"\\u3030\"\n",
        "                      \"]+\", re.UNICODE)\n",
        "      text=emoji_pattern.sub(r'', text)\n",
        "\n",
        "      return text"
      ]
    },
    {
      "cell_type": "code",
      "execution_count": 8,
      "id": "4e28e288",
      "metadata": {
        "id": "4e28e288"
      },
      "outputs": [],
      "source": [
        "def preprocess_text(text):\n",
        "    text = clean_text(text)\n",
        "\n",
        "    lemmatizer = WordNetLemmatizer()\n",
        "\n",
        "    stop_words_en = set(stopwords.words(\"english\"))\n",
        "    cleaned_words = list()\n",
        "    cleaned_words.append([word for word in word_tokenize(text) if word not in stop_words_en])\n",
        "\n",
        "    tokens = []\n",
        "    for i in cleaned_words[0]:\n",
        "        lemma = lemmatizer.lemmatize(i)\n",
        "        tokens.append(lemma)\n",
        "\n",
        "    document = ' '.join(tokens)\n",
        "\n",
        "    return tokens,document"
      ]
    },
    {
      "cell_type": "markdown",
      "id": "5de9135e",
      "metadata": {
        "id": "5de9135e"
      },
      "source": [
        "#Building the Inverted Index"
      ]
    },
    {
      "cell_type": "code",
      "execution_count": 55,
      "id": "7d5858e0",
      "metadata": {
        "id": "7d5858e0"
      },
      "outputs": [],
      "source": [
        "def build_inverted_index(start_url, limit):\n",
        "    inverted_index = defaultdict(list)\n",
        "    documents = []\n",
        "\n",
        "    url_list = crawl(start_url)\n",
        "    url_list = url_list[:limit]\n",
        "\n",
        "    page_rank_scores = calculate_page_rank(url_list)\n",
        "\n",
        "    for index, url in enumerate(url_list):\n",
        "        content = content_web_page(url)\n",
        "        tokens, doc = preprocess_text(content)\n",
        "        documents.append(doc)\n",
        "\n",
        "        # Store document postings in the inverted index\n",
        "        for token in tokens:\n",
        "            # Check if the document ID is already in the postings list for the token\n",
        "            doc_exists = any(entry['url'] == url for entry in inverted_index[token])\n",
        "\n",
        "            if not doc_exists:\n",
        "                # Add a new document posting for the token\n",
        "                inverted_index[token].append({\n",
        "                    'document_id': index,\n",
        "                    'url': url,\n",
        "                    'page_rank_score': page_rank_scores[url],\n",
        "                })\n",
        "\n",
        "    return inverted_index, documents\n"
      ]
    },
    {
      "cell_type": "code",
      "execution_count": 66,
      "id": "16819031",
      "metadata": {
        "id": "16819031"
      },
      "outputs": [],
      "source": [
        "# inverted_index,documents = build_inverted_index('https://nlp.stanford.edu/IR-book/',20)\n",
        "inverted_index,documents = build_inverted_index('https://www.geeksforgeeks.org/c-plus-plus/?ref=shm',5)"
      ]
    },
    {
      "cell_type": "code",
      "execution_count": 67,
      "id": "293105b3",
      "metadata": {
        "colab": {
          "base_uri": "https://localhost:8080/"
        },
        "id": "293105b3",
        "outputId": "d05b3938-c505-4394-f136-8b7358ff2257"
      },
      "outputs": [
        {
          "output_type": "execute_result",
          "data": {
            "text/plain": [
              "5"
            ]
          },
          "metadata": {},
          "execution_count": 67
        }
      ],
      "source": [
        "len(documents)"
      ]
    },
    {
      "cell_type": "code",
      "execution_count": 68,
      "id": "3040c81e",
      "metadata": {
        "colab": {
          "base_uri": "https://localhost:8080/"
        },
        "id": "3040c81e",
        "outputId": "a0d3224b-9d14-46f2-f742-036523985c17"
      },
      "outputs": [
        {
          "output_type": "execute_result",
          "data": {
            "text/plain": [
              "defaultdict(list,\n",
              "            {'c': [{'document_id': 0,\n",
              "               'url': 'https://www.geeksforgeeks.org/c-plus-plus/?ref=shm#main',\n",
              "               'page_rank_score': 0.2},\n",
              "              {'document_id': 1,\n",
              "               'url': 'https://www.geeksforgeeks.org/c-plus-plus/?ref=shmjavascript:void(0)',\n",
              "               'page_rank_score': 0.4740740740740739}],\n",
              "             'used': [{'document_id': 0,\n",
              "               'url': 'https://www.geeksforgeeks.org/c-plus-plus/?ref=shm#main',\n",
              "               'page_rank_score': 0.2},\n",
              "              {'document_id': 1,\n",
              "               'url': 'https://www.geeksforgeeks.org/c-plus-plus/?ref=shmjavascript:void(0)',\n",
              "               'page_rank_score': 0.4740740740740739}],\n",
              "             'popular': [{'document_id': 0,\n",
              "               'url': 'https://www.geeksforgeeks.org/c-plus-plus/?ref=shm#main',\n",
              "               'page_rank_score': 0.2},\n",
              "              {'document_id': 1,\n",
              "               'url': 'https://www.geeksforgeeks.org/c-plus-plus/?ref=shmjavascript:void(0)',\n",
              "               'page_rank_score': 0.4740740740740739}],\n",
              "             'programming': [{'document_id': 0,\n",
              "               'url': 'https://www.geeksforgeeks.org/c-plus-plus/?ref=shm#main',\n",
              "               'page_rank_score': 0.2},\n",
              "              {'document_id': 1,\n",
              "               'url': 'https://www.geeksforgeeks.org/c-plus-plus/?ref=shmjavascript:void(0)',\n",
              "               'page_rank_score': 0.4740740740740739}],\n",
              "             'language': [{'document_id': 0,\n",
              "               'url': 'https://www.geeksforgeeks.org/c-plus-plus/?ref=shm#main',\n",
              "               'page_rank_score': 0.2},\n",
              "              {'document_id': 1,\n",
              "               'url': 'https://www.geeksforgeeks.org/c-plus-plus/?ref=shmjavascript:void(0)',\n",
              "               'page_rank_score': 0.4740740740740739}],\n",
              "             'developed': [{'document_id': 0,\n",
              "               'url': 'https://www.geeksforgeeks.org/c-plus-plus/?ref=shm#main',\n",
              "               'page_rank_score': 0.2},\n",
              "              {'document_id': 1,\n",
              "               'url': 'https://www.geeksforgeeks.org/c-plus-plus/?ref=shmjavascript:void(0)',\n",
              "               'page_rank_score': 0.4740740740740739}],\n",
              "             'bjarne': [{'document_id': 0,\n",
              "               'url': 'https://www.geeksforgeeks.org/c-plus-plus/?ref=shm#main',\n",
              "               'page_rank_score': 0.2},\n",
              "              {'document_id': 1,\n",
              "               'url': 'https://www.geeksforgeeks.org/c-plus-plus/?ref=shmjavascript:void(0)',\n",
              "               'page_rank_score': 0.4740740740740739}],\n",
              "             'stroustrup': [{'document_id': 0,\n",
              "               'url': 'https://www.geeksforgeeks.org/c-plus-plus/?ref=shm#main',\n",
              "               'page_rank_score': 0.2},\n",
              "              {'document_id': 1,\n",
              "               'url': 'https://www.geeksforgeeks.org/c-plus-plus/?ref=shmjavascript:void(0)',\n",
              "               'page_rank_score': 0.4740740740740739}],\n",
              "             'highlevel': [{'document_id': 0,\n",
              "               'url': 'https://www.geeksforgeeks.org/c-plus-plus/?ref=shm#main',\n",
              "               'page_rank_score': 0.2},\n",
              "              {'document_id': 1,\n",
              "               'url': 'https://www.geeksforgeeks.org/c-plus-plus/?ref=shmjavascript:void(0)',\n",
              "               'page_rank_score': 0.4740740740740739}],\n",
              "             'objectoriented': [{'document_id': 0,\n",
              "               'url': 'https://www.geeksforgeeks.org/c-plus-plus/?ref=shm#main',\n",
              "               'page_rank_score': 0.2},\n",
              "              {'document_id': 1,\n",
              "               'url': 'https://www.geeksforgeeks.org/c-plus-plus/?ref=shmjavascript:void(0)',\n",
              "               'page_rank_score': 0.4740740740740739}],\n",
              "             'allows': [{'document_id': 0,\n",
              "               'url': 'https://www.geeksforgeeks.org/c-plus-plus/?ref=shm#main',\n",
              "               'page_rank_score': 0.2},\n",
              "              {'document_id': 1,\n",
              "               'url': 'https://www.geeksforgeeks.org/c-plus-plus/?ref=shmjavascript:void(0)',\n",
              "               'page_rank_score': 0.4740740740740739}],\n",
              "             'developer': [{'document_id': 0,\n",
              "               'url': 'https://www.geeksforgeeks.org/c-plus-plus/?ref=shm#main',\n",
              "               'page_rank_score': 0.2},\n",
              "              {'document_id': 1,\n",
              "               'url': 'https://www.geeksforgeeks.org/c-plus-plus/?ref=shmjavascript:void(0)',\n",
              "               'page_rank_score': 0.4740740740740739}],\n",
              "             'write': [{'document_id': 0,\n",
              "               'url': 'https://www.geeksforgeeks.org/c-plus-plus/?ref=shm#main',\n",
              "               'page_rank_score': 0.2},\n",
              "              {'document_id': 1,\n",
              "               'url': 'https://www.geeksforgeeks.org/c-plus-plus/?ref=shmjavascript:void(0)',\n",
              "               'page_rank_score': 0.4740740740740739}],\n",
              "             'clean': [{'document_id': 0,\n",
              "               'url': 'https://www.geeksforgeeks.org/c-plus-plus/?ref=shm#main',\n",
              "               'page_rank_score': 0.2},\n",
              "              {'document_id': 1,\n",
              "               'url': 'https://www.geeksforgeeks.org/c-plus-plus/?ref=shmjavascript:void(0)',\n",
              "               'page_rank_score': 0.4740740740740739}],\n",
              "             'efficient': [{'document_id': 0,\n",
              "               'url': 'https://www.geeksforgeeks.org/c-plus-plus/?ref=shm#main',\n",
              "               'page_rank_score': 0.2},\n",
              "              {'document_id': 1,\n",
              "               'url': 'https://www.geeksforgeeks.org/c-plus-plus/?ref=shmjavascript:void(0)',\n",
              "               'page_rank_score': 0.4740740740740739}],\n",
              "             'code': [{'document_id': 0,\n",
              "               'url': 'https://www.geeksforgeeks.org/c-plus-plus/?ref=shm#main',\n",
              "               'page_rank_score': 0.2},\n",
              "              {'document_id': 1,\n",
              "               'url': 'https://www.geeksforgeeks.org/c-plus-plus/?ref=shmjavascript:void(0)',\n",
              "               'page_rank_score': 0.4740740740740739}],\n",
              "             'large': [{'document_id': 0,\n",
              "               'url': 'https://www.geeksforgeeks.org/c-plus-plus/?ref=shm#main',\n",
              "               'page_rank_score': 0.2},\n",
              "              {'document_id': 1,\n",
              "               'url': 'https://www.geeksforgeeks.org/c-plus-plus/?ref=shmjavascript:void(0)',\n",
              "               'page_rank_score': 0.4740740740740739}],\n",
              "             'application': [{'document_id': 0,\n",
              "               'url': 'https://www.geeksforgeeks.org/c-plus-plus/?ref=shm#main',\n",
              "               'page_rank_score': 0.2},\n",
              "              {'document_id': 1,\n",
              "               'url': 'https://www.geeksforgeeks.org/c-plus-plus/?ref=shmjavascript:void(0)',\n",
              "               'page_rank_score': 0.4740740740740739}],\n",
              "             'software': [{'document_id': 0,\n",
              "               'url': 'https://www.geeksforgeeks.org/c-plus-plus/?ref=shm#main',\n",
              "               'page_rank_score': 0.2},\n",
              "              {'document_id': 1,\n",
              "               'url': 'https://www.geeksforgeeks.org/c-plus-plus/?ref=shmjavascript:void(0)',\n",
              "               'page_rank_score': 0.4740740740740739}],\n",
              "             'development': [{'document_id': 0,\n",
              "               'url': 'https://www.geeksforgeeks.org/c-plus-plus/?ref=shm#main',\n",
              "               'page_rank_score': 0.2},\n",
              "              {'document_id': 1,\n",
              "               'url': 'https://www.geeksforgeeks.org/c-plus-plus/?ref=shmjavascript:void(0)',\n",
              "               'page_rank_score': 0.4740740740740739}],\n",
              "             'game': [{'document_id': 0,\n",
              "               'url': 'https://www.geeksforgeeks.org/c-plus-plus/?ref=shm#main',\n",
              "               'page_rank_score': 0.2},\n",
              "              {'document_id': 1,\n",
              "               'url': 'https://www.geeksforgeeks.org/c-plus-plus/?ref=shmjavascript:void(0)',\n",
              "               'page_rank_score': 0.4740740740740739}],\n",
              "             'operating': [{'document_id': 0,\n",
              "               'url': 'https://www.geeksforgeeks.org/c-plus-plus/?ref=shm#main',\n",
              "               'page_rank_score': 0.2},\n",
              "              {'document_id': 1,\n",
              "               'url': 'https://www.geeksforgeeks.org/c-plus-plus/?ref=shmjavascript:void(0)',\n",
              "               'page_rank_score': 0.4740740740740739}],\n",
              "             'system': [{'document_id': 0,\n",
              "               'url': 'https://www.geeksforgeeks.org/c-plus-plus/?ref=shm#main',\n",
              "               'page_rank_score': 0.2},\n",
              "              {'document_id': 1,\n",
              "               'url': 'https://www.geeksforgeeks.org/c-plus-plus/?ref=shmjavascript:void(0)',\n",
              "               'page_rank_score': 0.4740740740740739}],\n",
              "             'expansion': [{'document_id': 0,\n",
              "               'url': 'https://www.geeksforgeeks.org/c-plus-plus/?ref=shm#main',\n",
              "               'page_rank_score': 0.2},\n",
              "              {'document_id': 1,\n",
              "               'url': 'https://www.geeksforgeeks.org/c-plus-plus/?ref=shmjavascript:void(0)',\n",
              "               'page_rank_score': 0.4740740740740739}],\n",
              "             'include': [{'document_id': 0,\n",
              "               'url': 'https://www.geeksforgeeks.org/c-plus-plus/?ref=shm#main',\n",
              "               'page_rank_score': 0.2},\n",
              "              {'document_id': 1,\n",
              "               'url': 'https://www.geeksforgeeks.org/c-plus-plus/?ref=shmjavascript:void(0)',\n",
              "               'page_rank_score': 0.4740740740740739}],\n",
              "             'object': [{'document_id': 0,\n",
              "               'url': 'https://www.geeksforgeeks.org/c-plus-plus/?ref=shm#main',\n",
              "               'page_rank_score': 0.2},\n",
              "              {'document_id': 1,\n",
              "               'url': 'https://www.geeksforgeeks.org/c-plus-plus/?ref=shmjavascript:void(0)',\n",
              "               'page_rank_score': 0.4740740740740739}],\n",
              "             'oriented': [{'document_id': 0,\n",
              "               'url': 'https://www.geeksforgeeks.org/c-plus-plus/?ref=shm#main',\n",
              "               'page_rank_score': 0.2},\n",
              "              {'document_id': 1,\n",
              "               'url': 'https://www.geeksforgeeks.org/c-plus-plus/?ref=shmjavascript:void(0)',\n",
              "               'page_rank_score': 0.4740740740740739}],\n",
              "             'programmingoops': [{'document_id': 0,\n",
              "               'url': 'https://www.geeksforgeeks.org/c-plus-plus/?ref=shm#main',\n",
              "               'page_rank_score': 0.2},\n",
              "              {'document_id': 1,\n",
              "               'url': 'https://www.geeksforgeeks.org/c-plus-plus/?ref=shmjavascript:void(0)',\n",
              "               'page_rank_score': 0.4740740740740739}],\n",
              "             'develop': [{'document_id': 0,\n",
              "               'url': 'https://www.geeksforgeeks.org/c-plus-plus/?ref=shm#main',\n",
              "               'page_rank_score': 0.2},\n",
              "              {'document_id': 1,\n",
              "               'url': 'https://www.geeksforgeeks.org/c-plus-plus/?ref=shmjavascript:void(0)',\n",
              "               'page_rank_score': 0.4740740740740739}],\n",
              "             'program': [{'document_id': 0,\n",
              "               'url': 'https://www.geeksforgeeks.org/c-plus-plus/?ref=shm#main',\n",
              "               'page_rank_score': 0.2},\n",
              "              {'document_id': 1,\n",
              "               'url': 'https://www.geeksforgeeks.org/c-plus-plus/?ref=shmjavascript:void(0)',\n",
              "               'page_rank_score': 0.4740740740740739}],\n",
              "             'computer': [{'document_id': 0,\n",
              "               'url': 'https://www.geeksforgeeks.org/c-plus-plus/?ref=shm#main',\n",
              "               'page_rank_score': 0.2},\n",
              "              {'document_id': 1,\n",
              "               'url': 'https://www.geeksforgeeks.org/c-plus-plus/?ref=shmjavascript:void(0)',\n",
              "               'page_rank_score': 0.4740740740740739}],\n",
              "             'tutorial': [{'document_id': 0,\n",
              "               'url': 'https://www.geeksforgeeks.org/c-plus-plus/?ref=shm#main',\n",
              "               'page_rank_score': 0.2},\n",
              "              {'document_id': 1,\n",
              "               'url': 'https://www.geeksforgeeks.org/c-plus-plus/?ref=shmjavascript:void(0)',\n",
              "               'page_rank_score': 0.4740740740740739}],\n",
              "             'cover': [{'document_id': 0,\n",
              "               'url': 'https://www.geeksforgeeks.org/c-plus-plus/?ref=shm#main',\n",
              "               'page_rank_score': 0.2},\n",
              "              {'document_id': 1,\n",
              "               'url': 'https://www.geeksforgeeks.org/c-plus-plus/?ref=shmjavascript:void(0)',\n",
              "               'page_rank_score': 0.4740740740740739}],\n",
              "             'basic': [{'document_id': 0,\n",
              "               'url': 'https://www.geeksforgeeks.org/c-plus-plus/?ref=shm#main',\n",
              "               'page_rank_score': 0.2},\n",
              "              {'document_id': 1,\n",
              "               'url': 'https://www.geeksforgeeks.org/c-plus-plus/?ref=shmjavascript:void(0)',\n",
              "               'page_rank_score': 0.4740740740740739}],\n",
              "             'advanced': [{'document_id': 0,\n",
              "               'url': 'https://www.geeksforgeeks.org/c-plus-plus/?ref=shm#main',\n",
              "               'page_rank_score': 0.2},\n",
              "              {'document_id': 1,\n",
              "               'url': 'https://www.geeksforgeeks.org/c-plus-plus/?ref=shmjavascript:void(0)',\n",
              "               'page_rank_score': 0.4740740740740739}],\n",
              "             'topic': [{'document_id': 0,\n",
              "               'url': 'https://www.geeksforgeeks.org/c-plus-plus/?ref=shm#main',\n",
              "               'page_rank_score': 0.2},\n",
              "              {'document_id': 1,\n",
              "               'url': 'https://www.geeksforgeeks.org/c-plus-plus/?ref=shmjavascript:void(0)',\n",
              "               'page_rank_score': 0.4740740740740739}],\n",
              "             'like': [{'document_id': 0,\n",
              "               'url': 'https://www.geeksforgeeks.org/c-plus-plus/?ref=shm#main',\n",
              "               'page_rank_score': 0.2},\n",
              "              {'document_id': 1,\n",
              "               'url': 'https://www.geeksforgeeks.org/c-plus-plus/?ref=shmjavascript:void(0)',\n",
              "               'page_rank_score': 0.4740740740740739}],\n",
              "             'function': [{'document_id': 0,\n",
              "               'url': 'https://www.geeksforgeeks.org/c-plus-plus/?ref=shm#main',\n",
              "               'page_rank_score': 0.2},\n",
              "              {'document_id': 1,\n",
              "               'url': 'https://www.geeksforgeeks.org/c-plus-plus/?ref=shmjavascript:void(0)',\n",
              "               'page_rank_score': 0.4740740740740739}],\n",
              "             'classesoops': [{'document_id': 0,\n",
              "               'url': 'https://www.geeksforgeeks.org/c-plus-plus/?ref=shm#main',\n",
              "               'page_rank_score': 0.2},\n",
              "              {'document_id': 1,\n",
              "               'url': 'https://www.geeksforgeeks.org/c-plus-plus/?ref=shmjavascript:void(0)',\n",
              "               'page_rank_score': 0.4740740740740739}],\n",
              "             'stl': [{'document_id': 0,\n",
              "               'url': 'https://www.geeksforgeeks.org/c-plus-plus/?ref=shm#main',\n",
              "               'page_rank_score': 0.2},\n",
              "              {'document_id': 1,\n",
              "               'url': 'https://www.geeksforgeeks.org/c-plus-plus/?ref=shmjavascript:void(0)',\n",
              "               'page_rank_score': 0.4740740740740739}],\n",
              "             'concept': [{'document_id': 0,\n",
              "               'url': 'https://www.geeksforgeeks.org/c-plus-plus/?ref=shm#main',\n",
              "               'page_rank_score': 0.2},\n",
              "              {'document_id': 1,\n",
              "               'url': 'https://www.geeksforgeeks.org/c-plus-plus/?ref=shmjavascript:void(0)',\n",
              "               'page_rank_score': 0.4740740740740739}],\n",
              "             'structure': [{'document_id': 0,\n",
              "               'url': 'https://www.geeksforgeeks.org/c-plus-plus/?ref=shm#main',\n",
              "               'page_rank_score': 0.2},\n",
              "              {'document_id': 1,\n",
              "               'url': 'https://www.geeksforgeeks.org/c-plus-plus/?ref=shmjavascript:void(0)',\n",
              "               'page_rank_score': 0.4740740740740739}],\n",
              "             'class': [{'document_id': 0,\n",
              "               'url': 'https://www.geeksforgeeks.org/c-plus-plus/?ref=shm#main',\n",
              "               'page_rank_score': 0.2},\n",
              "              {'document_id': 1,\n",
              "               'url': 'https://www.geeksforgeeks.org/c-plus-plus/?ref=shmjavascript:void(0)',\n",
              "               'page_rank_score': 0.4740740740740739}],\n",
              "             'except': [{'document_id': 0,\n",
              "               'url': 'https://www.geeksforgeeks.org/c-plus-plus/?ref=shm#main',\n",
              "               'page_rank_score': 0.2},\n",
              "              {'document_id': 1,\n",
              "               'url': 'https://www.geeksforgeeks.org/c-plus-plus/?ref=shmjavascript:void(0)',\n",
              "               'page_rank_score': 0.4740740740740739}],\n",
              "             'difference': [{'document_id': 0,\n",
              "               'url': 'https://www.geeksforgeeks.org/c-plus-plus/?ref=shm#main',\n",
              "               'page_rank_score': 0.2},\n",
              "              {'document_id': 1,\n",
              "               'url': 'https://www.geeksforgeeks.org/c-plus-plus/?ref=shmjavascript:void(0)',\n",
              "               'page_rank_score': 0.4740740740740739}],\n",
              "             'security': [{'document_id': 0,\n",
              "               'url': 'https://www.geeksforgeeks.org/c-plus-plus/?ref=shm#main',\n",
              "               'page_rank_score': 0.2},\n",
              "              {'document_id': 1,\n",
              "               'url': 'https://www.geeksforgeeks.org/c-plus-plus/?ref=shmjavascript:void(0)',\n",
              "               'page_rank_score': 0.4740740740740739}],\n",
              "             'struct': [{'document_id': 0,\n",
              "               'url': 'https://www.geeksforgeeks.org/c-plus-plus/?ref=shm#main',\n",
              "               'page_rank_score': 0.2},\n",
              "              {'document_id': 1,\n",
              "               'url': 'https://www.geeksforgeeks.org/c-plus-plus/?ref=shmjavascript:void(0)',\n",
              "               'page_rank_score': 0.4740740740740739}],\n",
              "             'given': [{'document_id': 0,\n",
              "               'url': 'https://www.geeksforgeeks.org/c-plus-plus/?ref=shm#main',\n",
              "               'page_rank_score': 0.2},\n",
              "              {'document_id': 1,\n",
              "               'url': 'https://www.geeksforgeeks.org/c-plus-plus/?ref=shmjavascript:void(0)',\n",
              "               'page_rank_score': 0.4740740740740739}],\n",
              "             'abstraction': [{'document_id': 0,\n",
              "               'url': 'https://www.geeksforgeeks.org/c-plus-plus/?ref=shm#main',\n",
              "               'page_rank_score': 0.2},\n",
              "              {'document_id': 1,\n",
              "               'url': 'https://www.geeksforgeeks.org/c-plus-plus/?ref=shmjavascript:void(0)',\n",
              "               'page_rank_score': 0.4740740740740739}],\n",
              "             'process': [{'document_id': 0,\n",
              "               'url': 'https://www.geeksforgeeks.org/c-plus-plus/?ref=shm#main',\n",
              "               'page_rank_score': 0.2},\n",
              "              {'document_id': 1,\n",
              "               'url': 'https://www.geeksforgeeks.org/c-plus-plus/?ref=shmjavascript:void(0)',\n",
              "               'page_rank_score': 0.4740740740740739}],\n",
              "             'showing': [{'document_id': 0,\n",
              "               'url': 'https://www.geeksforgeeks.org/c-plus-plus/?ref=shm#main',\n",
              "               'page_rank_score': 0.2},\n",
              "              {'document_id': 1,\n",
              "               'url': 'https://www.geeksforgeeks.org/c-plus-plus/?ref=shmjavascript:void(0)',\n",
              "               'page_rank_score': 0.4740740740740739}],\n",
              "             'necessary': [{'document_id': 0,\n",
              "               'url': 'https://www.geeksforgeeks.org/c-plus-plus/?ref=shm#main',\n",
              "               'page_rank_score': 0.2},\n",
              "              {'document_id': 1,\n",
              "               'url': 'https://www.geeksforgeeks.org/c-plus-plus/?ref=shmjavascript:void(0)',\n",
              "               'page_rank_score': 0.4740740740740739}],\n",
              "             'information': [{'document_id': 0,\n",
              "               'url': 'https://www.geeksforgeeks.org/c-plus-plus/?ref=shm#main',\n",
              "               'page_rank_score': 0.2},\n",
              "              {'document_id': 1,\n",
              "               'url': 'https://www.geeksforgeeks.org/c-plus-plus/?ref=shmjavascript:void(0)',\n",
              "               'page_rank_score': 0.4740740740740739}],\n",
              "             'user': [{'document_id': 0,\n",
              "               'url': 'https://www.geeksforgeeks.org/c-plus-plus/?ref=shm#main',\n",
              "               'page_rank_score': 0.2},\n",
              "              {'document_id': 1,\n",
              "               'url': 'https://www.geeksforgeeks.org/c-plus-plus/?ref=shmjavascript:void(0)',\n",
              "               'page_rank_score': 0.4740740740740739}],\n",
              "             'hiding': [{'document_id': 0,\n",
              "               'url': 'https://www.geeksforgeeks.org/c-plus-plus/?ref=shm#main',\n",
              "               'page_rank_score': 0.2},\n",
              "              {'document_id': 1,\n",
              "               'url': 'https://www.geeksforgeeks.org/c-plus-plus/?ref=shmjavascript:void(0)',\n",
              "               'page_rank_score': 0.4740740740740739}],\n",
              "             'detail': [{'document_id': 0,\n",
              "               'url': 'https://www.geeksforgeeks.org/c-plus-plus/?ref=shm#main',\n",
              "               'page_rank_score': 0.2},\n",
              "              {'document_id': 1,\n",
              "               'url': 'https://www.geeksforgeeks.org/c-plus-plus/?ref=shmjavascript:void(0)',\n",
              "               'page_rank_score': 0.4740740740740739}],\n",
              "             'programmer': [{'document_id': 0,\n",
              "               'url': 'https://www.geeksforgeeks.org/c-plus-plus/?ref=shm#main',\n",
              "               'page_rank_score': 0.2},\n",
              "              {'document_id': 1,\n",
              "               'url': 'https://www.geeksforgeeks.org/c-plus-plus/?ref=shmjavascript:void(0)',\n",
              "               'page_rank_score': 0.4740740740740739}],\n",
              "             'dont': [{'document_id': 0,\n",
              "               'url': 'https://www.geeksforgeeks.org/c-plus-plus/?ref=shm#main',\n",
              "               'page_rank_score': 0.2},\n",
              "              {'document_id': 1,\n",
              "               'url': 'https://www.geeksforgeeks.org/c-plus-plus/?ref=shmjavascript:void(0)',\n",
              "               'page_rank_score': 0.4740740740740739}],\n",
              "             'want': [{'document_id': 0,\n",
              "               'url': 'https://www.geeksforgeeks.org/c-plus-plus/?ref=shm#main',\n",
              "               'page_rank_score': 0.2},\n",
              "              {'document_id': 1,\n",
              "               'url': 'https://www.geeksforgeeks.org/c-plus-plus/?ref=shmjavascript:void(0)',\n",
              "               'page_rank_score': 0.4740740740740739}],\n",
              "             'show': [{'document_id': 0,\n",
              "               'url': 'https://www.geeksforgeeks.org/c-plus-plus/?ref=shm#main',\n",
              "               'page_rank_score': 0.2},\n",
              "              {'document_id': 1,\n",
              "               'url': 'https://www.geeksforgeeks.org/c-plus-plus/?ref=shmjavascript:void(0)',\n",
              "               'page_rank_score': 0.4740740740740739}],\n",
              "             'irrelevant': [{'document_id': 0,\n",
              "               'url': 'https://www.geeksforgeeks.org/c-plus-plus/?ref=shm#main',\n",
              "               'page_rank_score': 0.2},\n",
              "              {'document_id': 1,\n",
              "               'url': 'https://www.geeksforgeeks.org/c-plus-plus/?ref=shmjavascript:void(0)',\n",
              "               'page_rank_score': 0.4740740740740739}],\n",
              "             'particular': [{'document_id': 0,\n",
              "               'url': 'https://www.geeksforgeeks.org/c-plus-plus/?ref=shm#main',\n",
              "               'page_rank_score': 0.2},\n",
              "              {'document_id': 1,\n",
              "               'url': 'https://www.geeksforgeeks.org/c-plus-plus/?ref=shmjavascript:void(0)',\n",
              "               'page_rank_score': 0.4740740740740739}],\n",
              "             'developing': [{'document_id': 0,\n",
              "               'url': 'https://www.geeksforgeeks.org/c-plus-plus/?ref=shm#main',\n",
              "               'page_rank_score': 0.2},\n",
              "              {'document_id': 1,\n",
              "               'url': 'https://www.geeksforgeeks.org/c-plus-plus/?ref=shmjavascript:void(0)',\n",
              "               'page_rank_score': 0.4740740740740739}],\n",
              "             'browser': [{'document_id': 0,\n",
              "               'url': 'https://www.geeksforgeeks.org/c-plus-plus/?ref=shm#main',\n",
              "               'page_rank_score': 0.2},\n",
              "              {'document_id': 1,\n",
              "               'url': 'https://www.geeksforgeeks.org/c-plus-plus/?ref=shmjavascript:void(0)',\n",
              "               'page_rank_score': 0.4740740740740739}],\n",
              "             'well': [{'document_id': 0,\n",
              "               'url': 'https://www.geeksforgeeks.org/c-plus-plus/?ref=shm#main',\n",
              "               'page_rank_score': 0.2},\n",
              "              {'document_id': 1,\n",
              "               'url': 'https://www.geeksforgeeks.org/c-plus-plus/?ref=shmjavascript:void(0)',\n",
              "               'page_rank_score': 0.4740740740740739}],\n",
              "             'ingame': [{'document_id': 0,\n",
              "               'url': 'https://www.geeksforgeeks.org/c-plus-plus/?ref=shm#main',\n",
              "               'page_rank_score': 0.2},\n",
              "              {'document_id': 1,\n",
              "               'url': 'https://www.geeksforgeeks.org/c-plus-plus/?ref=shmjavascript:void(0)',\n",
              "               'page_rank_score': 0.4740740740740739}],\n",
              "             'engineering': [{'document_id': 0,\n",
              "               'url': 'https://www.geeksforgeeks.org/c-plus-plus/?ref=shm#main',\n",
              "               'page_rank_score': 0.2},\n",
              "              {'document_id': 1,\n",
              "               'url': 'https://www.geeksforgeeks.org/c-plus-plus/?ref=shmjavascript:void(0)',\n",
              "               'page_rank_score': 0.4740740740740739}],\n",
              "             'data': [{'document_id': 0,\n",
              "               'url': 'https://www.geeksforgeeks.org/c-plus-plus/?ref=shm#main',\n",
              "               'page_rank_score': 0.2},\n",
              "              {'document_id': 1,\n",
              "               'url': 'https://www.geeksforgeeks.org/c-plus-plus/?ref=shmjavascript:void(0)',\n",
              "               'page_rank_score': 0.4740740740740739}],\n",
              "             'etc': [{'document_id': 0,\n",
              "               'url': 'https://www.geeksforgeeks.org/c-plus-plus/?ref=shm#main',\n",
              "               'page_rank_score': 0.2},\n",
              "              {'document_id': 1,\n",
              "               'url': 'https://www.geeksforgeeks.org/c-plus-plus/?ref=shmjavascript:void(0)',\n",
              "               'page_rank_score': 0.4740740740740739}]})"
            ]
          },
          "metadata": {},
          "execution_count": 68
        }
      ],
      "source": [
        "inverted_index"
      ]
    },
    {
      "cell_type": "markdown",
      "source": [
        "#Algorithms"
      ],
      "metadata": {
        "id": "dIGw80qwd1VH"
      },
      "id": "dIGw80qwd1VH"
    },
    {
      "cell_type": "markdown",
      "id": "8f091768",
      "metadata": {
        "id": "8f091768"
      },
      "source": [
        "## TF-IDF"
      ]
    },
    {
      "cell_type": "code",
      "execution_count": 69,
      "id": "962610eb",
      "metadata": {
        "id": "962610eb"
      },
      "outputs": [],
      "source": [
        "from sklearn.feature_extraction.text import TfidfVectorizer\n",
        "\n",
        "inverted_index_tfidf = defaultdict(list)\n",
        "# Initialize the TfidfVectorizer\n",
        "vectorizer = TfidfVectorizer()\n",
        "tfidf_matrix = vectorizer.fit_transform(documents)\n",
        "feature_names = vectorizer.get_feature_names_out()\n",
        "\n",
        "for doc_index, doc in enumerate(documents):\n",
        "    # Get the TF-IDF scores for the terms in the document\n",
        "    feature_index = tfidf_matrix[doc_index, :].nonzero()[1]\n",
        "    tfidf_scores = zip(feature_index, [tfidf_matrix[doc_index, x] for x in feature_index])\n",
        "\n",
        "\n",
        "#     for term, score in [(feature_names[i], score) for (i, score) in tfidf_scores]:\n",
        "#         inverted_index_tfidf[term].append(score)\n",
        "#         print(f\"Term: {term}, TF-IDF score: {score:.4f}\")\n",
        "#     print('-' * 40)\n"
      ]
    },
    {
      "cell_type": "code",
      "execution_count": 60,
      "id": "e607e3f4",
      "metadata": {
        "id": "e607e3f4"
      },
      "outputs": [],
      "source": [
        "def get_urls(user_terms,doc_index):\n",
        "    urls = []\n",
        "    for terms in user_terms:\n",
        "        for term in word_tokenize(terms):\n",
        "            if term in documents[doc_index]:\n",
        "                for i in inverted_index[term]:\n",
        "                    if i['document_id'] == doc_index and i['url'] not in urls:\n",
        "                        urls.append(i['url'])\n",
        "    return urls"
      ]
    },
    {
      "cell_type": "code",
      "execution_count": 61,
      "id": "014dae89",
      "metadata": {
        "id": "014dae89"
      },
      "outputs": [],
      "source": [
        "def search_tfidf(user_query):\n",
        "    user_query = [user_query]\n",
        "    # Transform the user query into TF-IDF representation\n",
        "    query_vector = vectorizer.transform(user_query)\n",
        "\n",
        "    # Calculate the cosine similarity between the query vector and document vectors\n",
        "    cosine_similarities = tfidf_matrix.dot(query_vector.T).toarray().flatten()\n",
        "\n",
        "    # Sort the documents based on the cosine similarity scores\n",
        "    sorted_indices = cosine_similarities.argsort()[::-1]\n",
        "\n",
        "    not_found = True\n",
        "    # Print the ranked results\n",
        "    for rank, doc_index in enumerate(sorted_indices):\n",
        "        if cosine_similarities[doc_index] != 0:\n",
        "            urls = get_urls(user_query,doc_index)\n",
        "            if urls:\n",
        "                print(f\"Rank: {rank+1}, Document: {doc_index}\")\n",
        "                print()\n",
        "                print(f\"Cosine Similarity: {cosine_similarities[doc_index]:.4f}\")\n",
        "                print()\n",
        "                print(urls)\n",
        "                not_found = False\n",
        "    if not_found:\n",
        "        print(\"not found\")"
      ]
    },
    {
      "cell_type": "markdown",
      "source": [
        "##Page Rank"
      ],
      "metadata": {
        "id": "rpRRfGgmaOPY"
      },
      "id": "rpRRfGgmaOPY"
    },
    {
      "cell_type": "code",
      "source": [
        "def search_pageRank(query):\n",
        "    query_results = []\n",
        "\n",
        "    #Preprocessing the query\n",
        "    query,_ = preprocess_text(query)\n",
        "\n",
        "    for token in query:\n",
        "      for item in inverted_index[token]:\n",
        "        query_results.append(item)\n",
        "\n",
        "    # Sort the query results based on PageRank scores\n",
        "    ranked_results = sorted(query_results, key=lambda x: x['page_rank_score'], reverse=True)\n",
        "\n",
        "    ranked_results = list({tuple(sorted(item.items())): item for item in ranked_results}.values())\n",
        "\n",
        "    if ranked_results:\n",
        "      # Print the search results\n",
        "      for rank,result in enumerate(ranked_results):\n",
        "        print(f\"Rank: {rank+1}, Document: {result['document_id']}\")\n",
        "        print()\n",
        "        print(f\"PageRank Score: {result['page_rank_score']:.4f}\")\n",
        "        print()\n",
        "        print(result['url'])\n",
        "    else:\n",
        "      print(\"not found\")"
      ],
      "metadata": {
        "id": "rK6PBi5jazCm"
      },
      "id": "rK6PBi5jazCm",
      "execution_count": 62,
      "outputs": []
    },
    {
      "cell_type": "markdown",
      "id": "8b89c739",
      "metadata": {
        "id": "8b89c739"
      },
      "source": [
        "# Search"
      ]
    },
    {
      "cell_type": "code",
      "execution_count": 63,
      "id": "b5b0c606",
      "metadata": {
        "id": "b5b0c606"
      },
      "outputs": [],
      "source": [
        "def search(query,method):\n",
        "  if method == \"tfidf\":\n",
        "    search_tfidf(query)\n",
        "  elif method == \"page rank\":\n",
        "    search_pageRank(query)\n",
        "  else:\n",
        "    print(\"Sorry this method is not avaliable for now\")"
      ]
    },
    {
      "cell_type": "code",
      "source": [
        "search(\"programming link\",\"tfidf\")"
      ],
      "metadata": {
        "colab": {
          "base_uri": "https://localhost:8080/"
        },
        "id": "uMXefelXn69w",
        "outputId": "c3a67969-28ff-46f6-d00e-39e857e34c4f"
      },
      "id": "uMXefelXn69w",
      "execution_count": 64,
      "outputs": [
        {
          "output_type": "stream",
          "name": "stdout",
          "text": [
            "Rank: 3, Document: 1\n",
            "\n",
            "Cosine Similarity: 0.3846\n",
            "\n",
            "['https://www.geeksforgeeks.org/c-plus-plus/?ref=shmjavascript:void(0)']\n",
            "Rank: 4, Document: 0\n",
            "\n",
            "Cosine Similarity: 0.3846\n",
            "\n",
            "['https://www.geeksforgeeks.org/c-plus-plus/?ref=shm#main']\n"
          ]
        }
      ]
    },
    {
      "cell_type": "code",
      "source": [
        "search(\"programming link\",\"page rank\")"
      ],
      "metadata": {
        "colab": {
          "base_uri": "https://localhost:8080/"
        },
        "id": "BIifmy35n-sZ",
        "outputId": "7577b646-0481-4a37-f5e9-b129729a4c6b"
      },
      "id": "BIifmy35n-sZ",
      "execution_count": 65,
      "outputs": [
        {
          "output_type": "stream",
          "name": "stdout",
          "text": [
            "Rank: 1, Document: 1\n",
            "\n",
            "PageRank Score: 0.6944\n",
            "\n",
            "https://www.geeksforgeeks.org/c-plus-plus/?ref=shmjavascript:void(0)\n",
            "Rank: 2, Document: 0\n",
            "\n",
            "PageRank Score: 0.2500\n",
            "\n",
            "https://www.geeksforgeeks.org/c-plus-plus/?ref=shm#main\n"
          ]
        }
      ]
    }
  ],
  "metadata": {
    "kernelspec": {
      "display_name": "Python 3 (ipykernel)",
      "language": "python",
      "name": "python3"
    },
    "language_info": {
      "codemirror_mode": {
        "name": "ipython",
        "version": 3
      },
      "file_extension": ".py",
      "mimetype": "text/x-python",
      "name": "python",
      "nbconvert_exporter": "python",
      "pygments_lexer": "ipython3",
      "version": "3.9.7"
    },
    "colab": {
      "provenance": [],
      "collapsed_sections": [
        "cb969f60",
        "48fa1963",
        "035a0099",
        "126eec82",
        "2709185a"
      ],
      "toc_visible": true,
      "include_colab_link": true
    }
  },
  "nbformat": 4,
  "nbformat_minor": 5
}